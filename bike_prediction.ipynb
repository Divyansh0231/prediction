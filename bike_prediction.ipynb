{
 "cells": [
  {
   "cell_type": "code",
   "execution_count": 335,
   "metadata": {},
   "outputs": [],
   "source": [
    "import datetime\n",
    "\n",
    "import numpy as np\n",
    "import pandas as pd\n",
    "\n",
    "import matplotlib.pyplot as plt\n",
    "import seaborn as sns\n",
    "%matplotlib inline\n",
    "\n",
    "from sklearn.model_selection import train_test_split\n",
    "from sklearn.linear_model import LinearRegression\n",
    "from sklearn.ensemble import RandomForestRegressor\n",
    "from sklearn.preprocessing import StandardScaler\n",
    "from sklearn.metrics import r2_score"
   ]
  },
  {
   "cell_type": "code",
   "execution_count": 336,
   "metadata": {},
   "outputs": [
    {
     "data": {
      "text/html": [
       "<div>\n",
       "<style scoped>\n",
       "    .dataframe tbody tr th:only-of-type {\n",
       "        vertical-align: middle;\n",
       "    }\n",
       "\n",
       "    .dataframe tbody tr th {\n",
       "        vertical-align: top;\n",
       "    }\n",
       "\n",
       "    .dataframe thead th {\n",
       "        text-align: right;\n",
       "    }\n",
       "</style>\n",
       "<table border=\"1\" class=\"dataframe\">\n",
       "  <thead>\n",
       "    <tr style=\"text-align: right;\">\n",
       "      <th></th>\n",
       "      <th>base_price</th>\n",
       "      <th>kms_driven</th>\n",
       "      <th>age</th>\n",
       "      <th>power</th>\n",
       "      <th>brand</th>\n",
       "      <th>stroke</th>\n",
       "      <th>milage</th>\n",
       "      <th>length</th>\n",
       "      <th>weight</th>\n",
       "      <th>acceleration</th>\n",
       "      <th>rent</th>\n",
       "    </tr>\n",
       "  </thead>\n",
       "  <tbody>\n",
       "    <tr>\n",
       "      <th>0</th>\n",
       "      <td>35000</td>\n",
       "      <td>17654</td>\n",
       "      <td>3</td>\n",
       "      <td>110</td>\n",
       "      <td>TVS</td>\n",
       "      <td>2.68</td>\n",
       "      <td>18.0</td>\n",
       "      <td>307.0</td>\n",
       "      <td>3504</td>\n",
       "      <td>12.0</td>\n",
       "      <td>1750.0</td>\n",
       "    </tr>\n",
       "    <tr>\n",
       "      <th>1</th>\n",
       "      <td>11990</td>\n",
       "      <td>11000</td>\n",
       "      <td>4</td>\n",
       "      <td>350</td>\n",
       "      <td>Royal Enfield</td>\n",
       "      <td>2.68</td>\n",
       "      <td>15.0</td>\n",
       "      <td>350.0</td>\n",
       "      <td>3693</td>\n",
       "      <td>11.5</td>\n",
       "      <td>599.5</td>\n",
       "    </tr>\n",
       "    <tr>\n",
       "      <th>2</th>\n",
       "      <td>600000</td>\n",
       "      <td>110</td>\n",
       "      <td>8</td>\n",
       "      <td>675</td>\n",
       "      <td>Triumph</td>\n",
       "      <td>3.47</td>\n",
       "      <td>18.0</td>\n",
       "      <td>318.0</td>\n",
       "      <td>3436</td>\n",
       "      <td>11.0</td>\n",
       "      <td>30000.0</td>\n",
       "    </tr>\n",
       "    <tr>\n",
       "      <th>3</th>\n",
       "      <td>65000</td>\n",
       "      <td>16329</td>\n",
       "      <td>4</td>\n",
       "      <td>180</td>\n",
       "      <td>TVS</td>\n",
       "      <td>3.40</td>\n",
       "      <td>16.0</td>\n",
       "      <td>304.0</td>\n",
       "      <td>3433</td>\n",
       "      <td>12.0</td>\n",
       "      <td>3250.0</td>\n",
       "    </tr>\n",
       "    <tr>\n",
       "      <th>4</th>\n",
       "      <td>80000</td>\n",
       "      <td>10000</td>\n",
       "      <td>3</td>\n",
       "      <td>150</td>\n",
       "      <td>Yamaha</td>\n",
       "      <td>3.40</td>\n",
       "      <td>17.0</td>\n",
       "      <td>302.0</td>\n",
       "      <td>3449</td>\n",
       "      <td>10.5</td>\n",
       "      <td>4000.0</td>\n",
       "    </tr>\n",
       "  </tbody>\n",
       "</table>\n",
       "</div>"
      ],
      "text/plain": [
       "   base_price  kms_driven  age  power          brand  stroke  milage  length  \\\n",
       "0       35000       17654    3    110            TVS    2.68    18.0   307.0   \n",
       "1       11990       11000    4    350  Royal Enfield    2.68    15.0   350.0   \n",
       "2      600000         110    8    675        Triumph    3.47    18.0   318.0   \n",
       "3       65000       16329    4    180            TVS    3.40    16.0   304.0   \n",
       "4       80000       10000    3    150         Yamaha    3.40    17.0   302.0   \n",
       "\n",
       "   weight  acceleration     rent  \n",
       "0    3504          12.0   1750.0  \n",
       "1    3693          11.5    599.5  \n",
       "2    3436          11.0  30000.0  \n",
       "3    3433          12.0   3250.0  \n",
       "4    3449          10.5   4000.0  "
      ]
     },
     "execution_count": 336,
     "metadata": {},
     "output_type": "execute_result"
    }
   ],
   "source": [
    "dataset=pd.read_csv(\"bikes.csv\")\n",
    "dataset.head(5)"
   ]
  },
  {
   "cell_type": "code",
   "execution_count": 337,
   "metadata": {},
   "outputs": [
    {
     "name": "stdout",
     "output_type": "stream",
     "text": [
      "<class 'pandas.core.frame.DataFrame'>\n",
      "RangeIndex: 31840 entries, 0 to 31839\n",
      "Data columns (total 11 columns):\n",
      " #   Column        Non-Null Count  Dtype  \n",
      "---  ------        --------------  -----  \n",
      " 0   base_price    31840 non-null  int64  \n",
      " 1   kms_driven    31840 non-null  int64  \n",
      " 2   age           31840 non-null  int64  \n",
      " 3   power         31840 non-null  int64  \n",
      " 4   brand         31840 non-null  object \n",
      " 5   stroke        31840 non-null  float64\n",
      " 6   milage        31840 non-null  float64\n",
      " 7   length        31840 non-null  float64\n",
      " 8   weight        31840 non-null  int64  \n",
      " 9   acceleration  31840 non-null  float64\n",
      " 10  rent          31840 non-null  float64\n",
      "dtypes: float64(5), int64(5), object(1)\n",
      "memory usage: 2.7+ MB\n"
     ]
    }
   ],
   "source": [
    "dataset.info()"
   ]
  },
  {
   "cell_type": "markdown",
   "metadata": {},
   "source": [
    "# remove unwanted columns"
   ]
  },
  {
   "cell_type": "code",
   "execution_count": 338,
   "metadata": {},
   "outputs": [],
   "source": [
    "dataset.drop(\"length\",axis=1,inplace=True)\n",
    "dataset.drop(\"weight\",axis=1,inplace=True)\n",
    "dataset.drop(\"acceleration\",axis=1,inplace=True)\n",
    "dataset.drop(\"rent\",axis=1,inplace=True)\n"
   ]
  },
  {
   "cell_type": "code",
   "execution_count": 339,
   "metadata": {},
   "outputs": [
    {
     "data": {
      "text/html": [
       "<div>\n",
       "<style scoped>\n",
       "    .dataframe tbody tr th:only-of-type {\n",
       "        vertical-align: middle;\n",
       "    }\n",
       "\n",
       "    .dataframe tbody tr th {\n",
       "        vertical-align: top;\n",
       "    }\n",
       "\n",
       "    .dataframe thead th {\n",
       "        text-align: right;\n",
       "    }\n",
       "</style>\n",
       "<table border=\"1\" class=\"dataframe\">\n",
       "  <thead>\n",
       "    <tr style=\"text-align: right;\">\n",
       "      <th></th>\n",
       "      <th>base_price</th>\n",
       "      <th>kms_driven</th>\n",
       "      <th>age</th>\n",
       "      <th>power</th>\n",
       "      <th>brand</th>\n",
       "      <th>stroke</th>\n",
       "      <th>milage</th>\n",
       "    </tr>\n",
       "  </thead>\n",
       "  <tbody>\n",
       "    <tr>\n",
       "      <th>0</th>\n",
       "      <td>35000</td>\n",
       "      <td>17654</td>\n",
       "      <td>3</td>\n",
       "      <td>110</td>\n",
       "      <td>TVS</td>\n",
       "      <td>2.68</td>\n",
       "      <td>18.0</td>\n",
       "    </tr>\n",
       "    <tr>\n",
       "      <th>1</th>\n",
       "      <td>11990</td>\n",
       "      <td>11000</td>\n",
       "      <td>4</td>\n",
       "      <td>350</td>\n",
       "      <td>Royal Enfield</td>\n",
       "      <td>2.68</td>\n",
       "      <td>15.0</td>\n",
       "    </tr>\n",
       "    <tr>\n",
       "      <th>2</th>\n",
       "      <td>600000</td>\n",
       "      <td>110</td>\n",
       "      <td>8</td>\n",
       "      <td>675</td>\n",
       "      <td>Triumph</td>\n",
       "      <td>3.47</td>\n",
       "      <td>18.0</td>\n",
       "    </tr>\n",
       "    <tr>\n",
       "      <th>3</th>\n",
       "      <td>65000</td>\n",
       "      <td>16329</td>\n",
       "      <td>4</td>\n",
       "      <td>180</td>\n",
       "      <td>TVS</td>\n",
       "      <td>3.40</td>\n",
       "      <td>16.0</td>\n",
       "    </tr>\n",
       "    <tr>\n",
       "      <th>4</th>\n",
       "      <td>80000</td>\n",
       "      <td>10000</td>\n",
       "      <td>3</td>\n",
       "      <td>150</td>\n",
       "      <td>Yamaha</td>\n",
       "      <td>3.40</td>\n",
       "      <td>17.0</td>\n",
       "    </tr>\n",
       "    <tr>\n",
       "      <th>...</th>\n",
       "      <td>...</td>\n",
       "      <td>...</td>\n",
       "      <td>...</td>\n",
       "      <td>...</td>\n",
       "      <td>...</td>\n",
       "      <td>...</td>\n",
       "      <td>...</td>\n",
       "    </tr>\n",
       "    <tr>\n",
       "      <th>31835</th>\n",
       "      <td>87000</td>\n",
       "      <td>16336</td>\n",
       "      <td>7</td>\n",
       "      <td>350</td>\n",
       "      <td>Royal Enfield</td>\n",
       "      <td>3.46</td>\n",
       "      <td>27.0</td>\n",
       "    </tr>\n",
       "    <tr>\n",
       "      <th>31836</th>\n",
       "      <td>70000</td>\n",
       "      <td>13858</td>\n",
       "      <td>11</td>\n",
       "      <td>350</td>\n",
       "      <td>Royal Enfield</td>\n",
       "      <td>3.90</td>\n",
       "      <td>44.0</td>\n",
       "    </tr>\n",
       "    <tr>\n",
       "      <th>31837</th>\n",
       "      <td>35000</td>\n",
       "      <td>11885</td>\n",
       "      <td>12</td>\n",
       "      <td>125</td>\n",
       "      <td>Suzuki</td>\n",
       "      <td>3.41</td>\n",
       "      <td>32.0</td>\n",
       "    </tr>\n",
       "    <tr>\n",
       "      <th>31838</th>\n",
       "      <td>196700</td>\n",
       "      <td>13216</td>\n",
       "      <td>4</td>\n",
       "      <td>390</td>\n",
       "      <td>KTM</td>\n",
       "      <td>3.41</td>\n",
       "      <td>28.0</td>\n",
       "    </tr>\n",
       "    <tr>\n",
       "      <th>31839</th>\n",
       "      <td>25000</td>\n",
       "      <td>32588</td>\n",
       "      <td>9</td>\n",
       "      <td>150</td>\n",
       "      <td>Bajaj</td>\n",
       "      <td>3.07</td>\n",
       "      <td>31.0</td>\n",
       "    </tr>\n",
       "  </tbody>\n",
       "</table>\n",
       "<p>31840 rows × 7 columns</p>\n",
       "</div>"
      ],
      "text/plain": [
       "       base_price  kms_driven  age  power          brand  stroke  milage\n",
       "0           35000       17654    3    110            TVS    2.68    18.0\n",
       "1           11990       11000    4    350  Royal Enfield    2.68    15.0\n",
       "2          600000         110    8    675        Triumph    3.47    18.0\n",
       "3           65000       16329    4    180            TVS    3.40    16.0\n",
       "4           80000       10000    3    150         Yamaha    3.40    17.0\n",
       "...           ...         ...  ...    ...            ...     ...     ...\n",
       "31835       87000       16336    7    350  Royal Enfield    3.46    27.0\n",
       "31836       70000       13858   11    350  Royal Enfield    3.90    44.0\n",
       "31837       35000       11885   12    125         Suzuki    3.41    32.0\n",
       "31838      196700       13216    4    390            KTM    3.41    28.0\n",
       "31839       25000       32588    9    150          Bajaj    3.07    31.0\n",
       "\n",
       "[31840 rows x 7 columns]"
      ]
     },
     "execution_count": 339,
     "metadata": {},
     "output_type": "execute_result"
    }
   ],
   "source": [
    "dataset"
   ]
  },
  {
   "cell_type": "code",
   "execution_count": 340,
   "metadata": {},
   "outputs": [],
   "source": [
    "dataset=dataset[[\"brand\",\"kms_driven\",\"power\",\"stroke\",\"milage\",\"age\",\"base_price\"]]\n"
   ]
  },
  {
   "cell_type": "code",
   "execution_count": 341,
   "metadata": {},
   "outputs": [],
   "source": [
    "# dataset.drop(\"brand\",axis=1,inplace=True)\n",
    "\n"
   ]
  },
  {
   "cell_type": "markdown",
   "metadata": {},
   "source": [
    "# outliers"
   ]
  },
  {
   "cell_type": "code",
   "execution_count": 342,
   "metadata": {},
   "outputs": [
    {
     "name": "stderr",
     "output_type": "stream",
     "text": [
      "C:\\Users\\Priyanka Negi\\AppData\\Local\\Temp\\ipykernel_21404\\1072609985.py:7: UserWarning: \n",
      "\n",
      "`distplot` is a deprecated function and will be removed in seaborn v0.14.0.\n",
      "\n",
      "Please adapt your code to use either `displot` (a figure-level function with\n",
      "similar flexibility) or `histplot` (an axes-level function for histograms).\n",
      "\n",
      "For a guide to updating your code to use the new functions, please see\n",
      "https://gist.github.com/mwaskom/de44147ed2974457ad6372750bbe5751\n",
      "\n",
      "  sns.distplot(dataset[\"kms_driven\"])\n"
     ]
    },
    {
     "data": {
      "text/plain": [
       "<Axes: ylabel='kms_driven'>"
      ]
     },
     "execution_count": 342,
     "metadata": {},
     "output_type": "execute_result"
    },
    {
     "data": {
      "image/png": "[encoded data removed]",
      "text/plain": [
       "<Figure size 1600x500 with 2 Axes>"
      ]
     },
     "metadata": {},
     "output_type": "display_data"
    }
   ],
   "source": [
    "\n",
    "import matplotlib.pyplot as plt \n",
    "import seaborn as sns \n",
    "\n",
    "\n",
    "plt.figure(figsize=(16,5))\n",
    "plt.subplot(1,2,1)\n",
    "sns.distplot(dataset[\"kms_driven\"])\n",
    "plt.subplot(2,2,2)\n",
    "sns.boxplot(dataset[\"kms_driven\"])"
   ]
  },
  {
   "cell_type": "code",
   "execution_count": 343,
   "metadata": {},
   "outputs": [
    {
     "name": "stdout",
     "output_type": "stream",
     "text": [
      "12000.0\n"
     ]
    },
    {
     "data": {
      "text/plain": [
       "20000.0"
      ]
     },
     "execution_count": 343,
     "metadata": {},
     "output_type": "execute_result"
    }
   ],
   "source": [
    "#graph is right skewewd therefore used ----IQR\n",
    "per25=dataset[\"kms_driven\"].quantile(0.25)\n",
    "per75=dataset[\"kms_driven\"].quantile(0.45)\n",
    "print(per25)\n",
    "per75"
   ]
  },
  {
   "cell_type": "code",
   "execution_count": 344,
   "metadata": {},
   "outputs": [],
   "source": [
    "iqr=per75-per25\n",
    "upperlimit=per75+1.5*iqr\n",
    "lowerlimit=per25-1.5*iqr"
   ]
  },
  {
   "cell_type": "code",
   "execution_count": 345,
   "metadata": {},
   "outputs": [],
   "source": [
    "dataset=dataset.copy()\n",
    "dataset[\"kms_driven\"]=np.where(\n",
    "    dataset[\"kms_driven\"]>upperlimit,upperlimit,\n",
    "    np.where(\n",
    "        dataset[\"kms_driven\"]<lowerlimit,lowerlimit,\n",
    "        dataset[\"kms_driven\"]\n",
    "))"
   ]
  },
  {
   "cell_type": "code",
   "execution_count": 346,
   "metadata": {},
   "outputs": [
    {
     "name": "stderr",
     "output_type": "stream",
     "text": [
      "C:\\Users\\Priyanka Negi\\AppData\\Local\\Temp\\ipykernel_21404\\16271884.py:7: UserWarning: \n",
      "\n",
      "`distplot` is a deprecated function and will be removed in seaborn v0.14.0.\n",
      "\n",
      "Please adapt your code to use either `displot` (a figure-level function with\n",
      "similar flexibility) or `histplot` (an axes-level function for histograms).\n",
      "\n",
      "For a guide to updating your code to use the new functions, please see\n",
      "https://gist.github.com/mwaskom/de44147ed2974457ad6372750bbe5751\n",
      "\n",
      "  sns.distplot(dataset[\"kms_driven\"])\n"
     ]
    },
    {
     "data": {
      "text/plain": [
       "<Axes: ylabel='kms_driven'>"
      ]
     },
     "execution_count": 346,
     "metadata": {},
     "output_type": "execute_result"
    },
    {
     "data": {
      "image/png": "[encoded data removed]",
      "text/plain": [
       "<Figure size 1600x500 with 2 Axes>"
      ]
     },
     "metadata": {},
     "output_type": "display_data"
    }
   ],
   "source": [
    "import matplotlib.pyplot as plt \n",
    "import seaborn as sns \n",
    "\n",
    "\n",
    "plt.figure(figsize=(16,5))\n",
    "plt.subplot(1,2,1)\n",
    "sns.distplot(dataset[\"kms_driven\"])\n",
    "plt.subplot(2,2,2)\n",
    "sns.boxplot(dataset[\"kms_driven\"])"
   ]
  },
  {
   "cell_type": "code",
   "execution_count": 347,
   "metadata": {},
   "outputs": [
    {
     "data": {
      "text/plain": [
       "<Axes: ylabel='base_price'>"
      ]
     },
     "execution_count": 347,
     "metadata": {},
     "output_type": "execute_result"
    },
    {
     "data": {
      "image/png": "[encoded data removed]",
      "text/plain": [
       "<Figure size 640x480 with 1 Axes>"
      ]
     },
     "metadata": {},
     "output_type": "display_data"
    }
   ],
   "source": [
    "import seaborn as sns\n",
    "sns.boxplot(dataset[\"base_price\"])"
   ]
  },
  {
   "cell_type": "code",
   "execution_count": 348,
   "metadata": {},
   "outputs": [
    {
     "name": "stdout",
     "output_type": "stream",
     "text": [
      "25000.0\n"
     ]
    },
    {
     "data": {
      "text/plain": [
       "39000.0"
      ]
     },
     "execution_count": 348,
     "metadata": {},
     "output_type": "execute_result"
    }
   ],
   "source": [
    "#graph is right skewewd therefore used ----IQR\n",
    "per25_2=dataset[\"base_price\"].quantile(0.25)\n",
    "per75_2=dataset[\"base_price\"].quantile(0.45)\n",
    "print(per25_2)\n",
    "per75_2"
   ]
  },
  {
   "cell_type": "code",
   "execution_count": 349,
   "metadata": {},
   "outputs": [],
   "source": [
    "iqr=per75_2-per25_2\n",
    "upperlimit_2=per75_2+1.5*iqr\n",
    "lowerlimit_2=per25_2-1.5*iqr"
   ]
  },
  {
   "cell_type": "code",
   "execution_count": 350,
   "metadata": {},
   "outputs": [],
   "source": [
    "dataset=dataset.copy()\n",
    "dataset[\"base_price\"]=np.where(\n",
    "    dataset[\"base_price\"]>upperlimit_2,upperlimit_2,\n",
    "    np.where(\n",
    "        dataset[\"base_price\"]<lowerlimit_2,lowerlimit_2,\n",
    "        dataset[\"base_price\"]\n",
    "))"
   ]
  },
  {
   "cell_type": "code",
   "execution_count": 351,
   "metadata": {},
   "outputs": [
    {
     "name": "stderr",
     "output_type": "stream",
     "text": [
      "C:\\Users\\Priyanka Negi\\AppData\\Local\\Temp\\ipykernel_21404\\3502934068.py:7: UserWarning: \n",
      "\n",
      "`distplot` is a deprecated function and will be removed in seaborn v0.14.0.\n",
      "\n",
      "Please adapt your code to use either `displot` (a figure-level function with\n",
      "similar flexibility) or `histplot` (an axes-level function for histograms).\n",
      "\n",
      "For a guide to updating your code to use the new functions, please see\n",
      "https://gist.github.com/mwaskom/de44147ed2974457ad6372750bbe5751\n",
      "\n",
      "  sns.distplot(dataset[\"base_price\"])\n"
     ]
    },
    {
     "data": {
      "text/plain": [
       "<Axes: ylabel='base_price'>"
      ]
     },
     "execution_count": 351,
     "metadata": {},
     "output_type": "execute_result"
    },
    {
     "data": {
      "image/png": "[encoded data removed]",
      "text/plain": [
       "<Figure size 1600x500 with 2 Axes>"
      ]
     },
     "metadata": {},
     "output_type": "display_data"
    }
   ],
   "source": [
    "import matplotlib.pyplot as plt \n",
    "import seaborn as sns \n",
    "\n",
    "\n",
    "plt.figure(figsize=(16,5))\n",
    "plt.subplot(1,2,1)\n",
    "sns.distplot(dataset[\"base_price\"])\n",
    "plt.subplot(2,2,2)\n",
    "sns.boxplot(dataset[\"base_price\"])"
   ]
  },
  {
   "cell_type": "code",
   "execution_count": 352,
   "metadata": {},
   "outputs": [
    {
     "data": {
      "text/html": [
       "<div>\n",
       "<style scoped>\n",
       "    .dataframe tbody tr th:only-of-type {\n",
       "        vertical-align: middle;\n",
       "    }\n",
       "\n",
       "    .dataframe tbody tr th {\n",
       "        vertical-align: top;\n",
       "    }\n",
       "\n",
       "    .dataframe thead th {\n",
       "        text-align: right;\n",
       "    }\n",
       "</style>\n",
       "<table border=\"1\" class=\"dataframe\">\n",
       "  <thead>\n",
       "    <tr style=\"text-align: right;\">\n",
       "      <th></th>\n",
       "      <th>brand</th>\n",
       "      <th>kms_driven</th>\n",
       "      <th>power</th>\n",
       "      <th>stroke</th>\n",
       "      <th>milage</th>\n",
       "      <th>age</th>\n",
       "      <th>base_price</th>\n",
       "    </tr>\n",
       "  </thead>\n",
       "  <tbody>\n",
       "    <tr>\n",
       "      <th>0</th>\n",
       "      <td>TVS</td>\n",
       "      <td>17654.0</td>\n",
       "      <td>110</td>\n",
       "      <td>2.68</td>\n",
       "      <td>18.0</td>\n",
       "      <td>3</td>\n",
       "      <td>35000.0</td>\n",
       "    </tr>\n",
       "    <tr>\n",
       "      <th>1</th>\n",
       "      <td>Royal Enfield</td>\n",
       "      <td>11000.0</td>\n",
       "      <td>350</td>\n",
       "      <td>2.68</td>\n",
       "      <td>15.0</td>\n",
       "      <td>4</td>\n",
       "      <td>11990.0</td>\n",
       "    </tr>\n",
       "    <tr>\n",
       "      <th>2</th>\n",
       "      <td>Triumph</td>\n",
       "      <td>110.0</td>\n",
       "      <td>675</td>\n",
       "      <td>3.47</td>\n",
       "      <td>18.0</td>\n",
       "      <td>8</td>\n",
       "      <td>60000.0</td>\n",
       "    </tr>\n",
       "    <tr>\n",
       "      <th>3</th>\n",
       "      <td>TVS</td>\n",
       "      <td>16329.0</td>\n",
       "      <td>180</td>\n",
       "      <td>3.40</td>\n",
       "      <td>16.0</td>\n",
       "      <td>4</td>\n",
       "      <td>60000.0</td>\n",
       "    </tr>\n",
       "    <tr>\n",
       "      <th>4</th>\n",
       "      <td>Yamaha</td>\n",
       "      <td>10000.0</td>\n",
       "      <td>150</td>\n",
       "      <td>3.40</td>\n",
       "      <td>17.0</td>\n",
       "      <td>3</td>\n",
       "      <td>60000.0</td>\n",
       "    </tr>\n",
       "    <tr>\n",
       "      <th>...</th>\n",
       "      <td>...</td>\n",
       "      <td>...</td>\n",
       "      <td>...</td>\n",
       "      <td>...</td>\n",
       "      <td>...</td>\n",
       "      <td>...</td>\n",
       "      <td>...</td>\n",
       "    </tr>\n",
       "    <tr>\n",
       "      <th>31835</th>\n",
       "      <td>Royal Enfield</td>\n",
       "      <td>16336.0</td>\n",
       "      <td>350</td>\n",
       "      <td>3.46</td>\n",
       "      <td>27.0</td>\n",
       "      <td>7</td>\n",
       "      <td>60000.0</td>\n",
       "    </tr>\n",
       "    <tr>\n",
       "      <th>31836</th>\n",
       "      <td>Royal Enfield</td>\n",
       "      <td>13858.0</td>\n",
       "      <td>350</td>\n",
       "      <td>3.90</td>\n",
       "      <td>44.0</td>\n",
       "      <td>11</td>\n",
       "      <td>60000.0</td>\n",
       "    </tr>\n",
       "    <tr>\n",
       "      <th>31837</th>\n",
       "      <td>Suzuki</td>\n",
       "      <td>11885.0</td>\n",
       "      <td>125</td>\n",
       "      <td>3.41</td>\n",
       "      <td>32.0</td>\n",
       "      <td>12</td>\n",
       "      <td>35000.0</td>\n",
       "    </tr>\n",
       "    <tr>\n",
       "      <th>31838</th>\n",
       "      <td>KTM</td>\n",
       "      <td>13216.0</td>\n",
       "      <td>390</td>\n",
       "      <td>3.41</td>\n",
       "      <td>28.0</td>\n",
       "      <td>4</td>\n",
       "      <td>60000.0</td>\n",
       "    </tr>\n",
       "    <tr>\n",
       "      <th>31839</th>\n",
       "      <td>Bajaj</td>\n",
       "      <td>32000.0</td>\n",
       "      <td>150</td>\n",
       "      <td>3.07</td>\n",
       "      <td>31.0</td>\n",
       "      <td>9</td>\n",
       "      <td>25000.0</td>\n",
       "    </tr>\n",
       "  </tbody>\n",
       "</table>\n",
       "<p>31840 rows × 7 columns</p>\n",
       "</div>"
      ],
      "text/plain": [
       "               brand  kms_driven  power  stroke  milage  age  base_price\n",
       "0                TVS     17654.0    110    2.68    18.0    3     35000.0\n",
       "1      Royal Enfield     11000.0    350    2.68    15.0    4     11990.0\n",
       "2            Triumph       110.0    675    3.47    18.0    8     60000.0\n",
       "3                TVS     16329.0    180    3.40    16.0    4     60000.0\n",
       "4             Yamaha     10000.0    150    3.40    17.0    3     60000.0\n",
       "...              ...         ...    ...     ...     ...  ...         ...\n",
       "31835  Royal Enfield     16336.0    350    3.46    27.0    7     60000.0\n",
       "31836  Royal Enfield     13858.0    350    3.90    44.0   11     60000.0\n",
       "31837         Suzuki     11885.0    125    3.41    32.0   12     35000.0\n",
       "31838            KTM     13216.0    390    3.41    28.0    4     60000.0\n",
       "31839          Bajaj     32000.0    150    3.07    31.0    9     25000.0\n",
       "\n",
       "[31840 rows x 7 columns]"
      ]
     },
     "execution_count": 352,
     "metadata": {},
     "output_type": "execute_result"
    }
   ],
   "source": [
    "dataset"
   ]
  },
  {
   "cell_type": "code",
   "execution_count": 353,
   "metadata": {},
   "outputs": [],
   "source": [
    "X=dataset.drop(columns=[\"base_price\"])\n",
    "y=dataset[\"base_price\"]"
   ]
  },
  {
   "cell_type": "code",
   "execution_count": 354,
   "metadata": {},
   "outputs": [],
   "source": [
    "from sklearn.model_selection import train_test_split\n",
    "Xtrain,Xtest,ytrain,ytest=train_test_split(X,y,test_size=0.20, random_state=10)"
   ]
  },
  {
   "cell_type": "code",
   "execution_count": 355,
   "metadata": {},
   "outputs": [
    {
     "data": {
      "text/html": [
       "<div>\n",
       "<style scoped>\n",
       "    .dataframe tbody tr th:only-of-type {\n",
       "        vertical-align: middle;\n",
       "    }\n",
       "\n",
       "    .dataframe tbody tr th {\n",
       "        vertical-align: top;\n",
       "    }\n",
       "\n",
       "    .dataframe thead th {\n",
       "        text-align: right;\n",
       "    }\n",
       "</style>\n",
       "<table border=\"1\" class=\"dataframe\">\n",
       "  <thead>\n",
       "    <tr style=\"text-align: right;\">\n",
       "      <th></th>\n",
       "      <th>brand</th>\n",
       "      <th>kms_driven</th>\n",
       "      <th>power</th>\n",
       "      <th>stroke</th>\n",
       "      <th>milage</th>\n",
       "      <th>age</th>\n",
       "    </tr>\n",
       "  </thead>\n",
       "  <tbody>\n",
       "    <tr>\n",
       "      <th>3413</th>\n",
       "      <td>Yamaha</td>\n",
       "      <td>32000.0</td>\n",
       "      <td>150</td>\n",
       "      <td>3.23</td>\n",
       "      <td>16.0</td>\n",
       "      <td>10</td>\n",
       "    </tr>\n",
       "    <tr>\n",
       "      <th>17685</th>\n",
       "      <td>Bajaj</td>\n",
       "      <td>8000.0</td>\n",
       "      <td>220</td>\n",
       "      <td>3.64</td>\n",
       "      <td>24.0</td>\n",
       "      <td>5</td>\n",
       "    </tr>\n",
       "    <tr>\n",
       "      <th>6635</th>\n",
       "      <td>Bajaj</td>\n",
       "      <td>32000.0</td>\n",
       "      <td>125</td>\n",
       "      <td>3.15</td>\n",
       "      <td>27.5</td>\n",
       "      <td>7</td>\n",
       "    </tr>\n",
       "    <tr>\n",
       "      <th>18544</th>\n",
       "      <td>Hero</td>\n",
       "      <td>32000.0</td>\n",
       "      <td>100</td>\n",
       "      <td>2.76</td>\n",
       "      <td>25.5</td>\n",
       "      <td>19</td>\n",
       "    </tr>\n",
       "    <tr>\n",
       "      <th>19520</th>\n",
       "      <td>Suzuki</td>\n",
       "      <td>22697.0</td>\n",
       "      <td>125</td>\n",
       "      <td>3.39</td>\n",
       "      <td>27.0</td>\n",
       "      <td>7</td>\n",
       "    </tr>\n",
       "    <tr>\n",
       "      <th>...</th>\n",
       "      <td>...</td>\n",
       "      <td>...</td>\n",
       "      <td>...</td>\n",
       "      <td>...</td>\n",
       "      <td>...</td>\n",
       "      <td>...</td>\n",
       "    </tr>\n",
       "    <tr>\n",
       "      <th>28017</th>\n",
       "      <td>Hero</td>\n",
       "      <td>3869.0</td>\n",
       "      <td>100</td>\n",
       "      <td>3.27</td>\n",
       "      <td>15.0</td>\n",
       "      <td>16</td>\n",
       "    </tr>\n",
       "    <tr>\n",
       "      <th>17728</th>\n",
       "      <td>Hero</td>\n",
       "      <td>22000.0</td>\n",
       "      <td>100</td>\n",
       "      <td>3.89</td>\n",
       "      <td>31.5</td>\n",
       "      <td>4</td>\n",
       "    </tr>\n",
       "    <tr>\n",
       "      <th>29199</th>\n",
       "      <td>Bajaj</td>\n",
       "      <td>8000.0</td>\n",
       "      <td>220</td>\n",
       "      <td>3.15</td>\n",
       "      <td>32.0</td>\n",
       "      <td>5</td>\n",
       "    </tr>\n",
       "    <tr>\n",
       "      <th>7293</th>\n",
       "      <td>KTM</td>\n",
       "      <td>8000.0</td>\n",
       "      <td>390</td>\n",
       "      <td>3.15</td>\n",
       "      <td>31.0</td>\n",
       "      <td>6</td>\n",
       "    </tr>\n",
       "    <tr>\n",
       "      <th>17673</th>\n",
       "      <td>Harley-Davidson</td>\n",
       "      <td>3430.0</td>\n",
       "      <td>750</td>\n",
       "      <td>3.89</td>\n",
       "      <td>16.0</td>\n",
       "      <td>4</td>\n",
       "    </tr>\n",
       "  </tbody>\n",
       "</table>\n",
       "<p>25472 rows × 6 columns</p>\n",
       "</div>"
      ],
      "text/plain": [
       "                 brand  kms_driven  power  stroke  milage  age\n",
       "3413            Yamaha     32000.0    150    3.23    16.0   10\n",
       "17685            Bajaj      8000.0    220    3.64    24.0    5\n",
       "6635             Bajaj     32000.0    125    3.15    27.5    7\n",
       "18544             Hero     32000.0    100    2.76    25.5   19\n",
       "19520           Suzuki     22697.0    125    3.39    27.0    7\n",
       "...                ...         ...    ...     ...     ...  ...\n",
       "28017             Hero      3869.0    100    3.27    15.0   16\n",
       "17728             Hero     22000.0    100    3.89    31.5    4\n",
       "29199            Bajaj      8000.0    220    3.15    32.0    5\n",
       "7293               KTM      8000.0    390    3.15    31.0    6\n",
       "17673  Harley-Davidson      3430.0    750    3.89    16.0    4\n",
       "\n",
       "[25472 rows x 6 columns]"
      ]
     },
     "execution_count": 355,
     "metadata": {},
     "output_type": "execute_result"
    }
   ],
   "source": [
    "Xtrain"
   ]
  },
  {
   "cell_type": "code",
   "execution_count": 356,
   "metadata": {},
   "outputs": [
    {
     "data": {
      "text/plain": [
       "3413     15500.0\n",
       "17685    60000.0\n",
       "6635     24000.0\n",
       "18544    15000.0\n",
       "19520    32000.0\n",
       "          ...   \n",
       "28017    18000.0\n",
       "17728    39000.0\n",
       "29199    60000.0\n",
       "7293     60000.0\n",
       "17673    60000.0\n",
       "Name: base_price, Length: 25472, dtype: float64"
      ]
     },
     "execution_count": 356,
     "metadata": {},
     "output_type": "execute_result"
    }
   ],
   "source": [
    "ytrain"
   ]
  },
  {
   "cell_type": "markdown",
   "metadata": {},
   "source": [
    "# handling categorical column"
   ]
  },
  {
   "cell_type": "code",
   "execution_count": 357,
   "metadata": {},
   "outputs": [],
   "source": [
    "Xtrain = pd.get_dummies(Xtrain,\n",
    "                         columns = [\"brand\"],\n",
    "                         drop_first = True)"
   ]
  },
  {
   "cell_type": "code",
   "execution_count": 358,
   "metadata": {},
   "outputs": [
    {
     "name": "stdout",
     "output_type": "stream",
     "text": [
      "<class 'pandas.core.frame.DataFrame'>\n",
      "Index: 25472 entries, 3413 to 17673\n",
      "Data columns (total 27 columns):\n",
      " #   Column                 Non-Null Count  Dtype  \n",
      "---  ------                 --------------  -----  \n",
      " 0   kms_driven             25472 non-null  float64\n",
      " 1   power                  25472 non-null  int64  \n",
      " 2   stroke                 25472 non-null  float64\n",
      " 3   milage                 25472 non-null  float64\n",
      " 4   age                    25472 non-null  int64  \n",
      " 5   brand_Bajaj            25472 non-null  bool   \n",
      " 6   brand_Benelli          25472 non-null  bool   \n",
      " 7   brand_Ducati           25472 non-null  bool   \n",
      " 8   brand_Harley-Davidson  25472 non-null  bool   \n",
      " 9   brand_Hero             25472 non-null  bool   \n",
      " 10  brand_Honda            25472 non-null  bool   \n",
      " 11  brand_Hyosung          25472 non-null  bool   \n",
      " 12  brand_Ideal            25472 non-null  bool   \n",
      " 13  brand_Indian           25472 non-null  bool   \n",
      " 14  brand_Jawa             25472 non-null  bool   \n",
      " 15  brand_KTM              25472 non-null  bool   \n",
      " 16  brand_Kawasaki         25472 non-null  bool   \n",
      " 17  brand_LML              25472 non-null  bool   \n",
      " 18  brand_MV               25472 non-null  bool   \n",
      " 19  brand_Mahindra         25472 non-null  bool   \n",
      " 20  brand_Rajdoot          25472 non-null  bool   \n",
      " 21  brand_Royal Enfield    25472 non-null  bool   \n",
      " 22  brand_Suzuki           25472 non-null  bool   \n",
      " 23  brand_TVS              25472 non-null  bool   \n",
      " 24  brand_Triumph          25472 non-null  bool   \n",
      " 25  brand_Yamaha           25472 non-null  bool   \n",
      " 26  brand_Yezdi            25472 non-null  bool   \n",
      "dtypes: bool(22), float64(3), int64(2)\n",
      "memory usage: 1.7 MB\n"
     ]
    }
   ],
   "source": [
    "Xtrain.info()"
   ]
  },
  {
   "cell_type": "code",
   "execution_count": null,
   "metadata": {},
   "outputs": [],
   "source": []
  },
  {
   "cell_type": "code",
   "execution_count": 359,
   "metadata": {},
   "outputs": [],
   "source": [
    "Xtest = pd.get_dummies(Xtest,\n",
    "                         columns = [\"brand\"],\n",
    "                         drop_first = True)"
   ]
  },
  {
   "cell_type": "markdown",
   "metadata": {},
   "source": [
    "# this code ensures that both the training and test datasets have the same columns "
   ]
  },
  {
   "cell_type": "code",
   "execution_count": 360,
   "metadata": {},
   "outputs": [],
   "source": [
    "missing_cols = set(Xtrain.columns) - set(Xtest.columns)\n",
    "for col in missing_cols:\n",
    "    Xtest[col] = 0\n",
    "Xtest = Xtest[Xtrain.columns]"
   ]
  },
  {
   "cell_type": "code",
   "execution_count": 361,
   "metadata": {},
   "outputs": [],
   "source": [
    "standardScaler = StandardScaler()\n",
    "standardScaler.fit(Xtrain)\n",
    "X_train = standardScaler.transform(Xtrain)\n",
    "X_test = standardScaler.transform(Xtest)"
   ]
  },
  {
   "cell_type": "code",
   "execution_count": 362,
   "metadata": {},
   "outputs": [],
   "source": [
    "from sklearn.linear_model import LinearRegression\n",
    "from sklearn.ensemble import RandomForestRegressor\n",
    "from sklearn.ensemble import GradientBoostingRegressor\n",
    "from xgboost import XGBRegressor"
   ]
  },
  {
   "cell_type": "code",
   "execution_count": 363,
   "metadata": {},
   "outputs": [
    {
     "data": {
      "text/html": [
       "<style>#sk-container-id-9 {color: black;}#sk-container-id-9 pre{padding: 0;}#sk-container-id-9 div.sk-toggleable {background-color: white;}#sk-container-id-9 label.sk-toggleable__label {cursor: pointer;display: block;width: 100%;margin-bottom: 0;padding: 0.3em;box-sizing: border-box;text-align: center;}#sk-container-id-9 label.sk-toggleable__label-arrow:before {content: \"▸\";float: left;margin-right: 0.25em;color: #696969;}#sk-container-id-9 label.sk-toggleable__label-arrow:hover:before {color: black;}#sk-container-id-9 div.sk-estimator:hover label.sk-toggleable__label-arrow:before {color: black;}#sk-container-id-9 div.sk-toggleable__content {max-height: 0;max-width: 0;overflow: hidden;text-align: left;background-color: #f0f8ff;}#sk-container-id-9 div.sk-toggleable__content pre {margin: 0.2em;color: black;border-radius: 0.25em;background-color: #f0f8ff;}#sk-container-id-9 input.sk-toggleable__control:checked~div.sk-toggleable__content {max-height: 200px;max-width: 100%;overflow: auto;}#sk-container-id-9 input.sk-toggleable__control:checked~label.sk-toggleable__label-arrow:before {content: \"▾\";}#sk-container-id-9 div.sk-estimator input.sk-toggleable__control:checked~label.sk-toggleable__label {background-color: #d4ebff;}#sk-container-id-9 div.sk-label input.sk-toggleable__control:checked~label.sk-toggleable__label {background-color: #d4ebff;}#sk-container-id-9 input.sk-hidden--visually {border: 0;clip: rect(1px 1px 1px 1px);clip: rect(1px, 1px, 1px, 1px);height: 1px;margin: -1px;overflow: hidden;padding: 0;position: absolute;width: 1px;}#sk-container-id-9 div.sk-estimator {font-family: monospace;background-color: #f0f8ff;border: 1px dotted black;border-radius: 0.25em;box-sizing: border-box;margin-bottom: 0.5em;}#sk-container-id-9 div.sk-estimator:hover {background-color: #d4ebff;}#sk-container-id-9 div.sk-parallel-item::after {content: \"\";width: 100%;border-bottom: 1px solid gray;flex-grow: 1;}#sk-container-id-9 div.sk-label:hover label.sk-toggleable__label {background-color: #d4ebff;}#sk-container-id-9 div.sk-serial::before {content: \"\";position: absolute;border-left: 1px solid gray;box-sizing: border-box;top: 0;bottom: 0;left: 50%;z-index: 0;}#sk-container-id-9 div.sk-serial {display: flex;flex-direction: column;align-items: center;background-color: white;padding-right: 0.2em;padding-left: 0.2em;position: relative;}#sk-container-id-9 div.sk-item {position: relative;z-index: 1;}#sk-container-id-9 div.sk-parallel {display: flex;align-items: stretch;justify-content: center;background-color: white;position: relative;}#sk-container-id-9 div.sk-item::before, #sk-container-id-9 div.sk-parallel-item::before {content: \"\";position: absolute;border-left: 1px solid gray;box-sizing: border-box;top: 0;bottom: 0;left: 50%;z-index: -1;}#sk-container-id-9 div.sk-parallel-item {display: flex;flex-direction: column;z-index: 1;position: relative;background-color: white;}#sk-container-id-9 div.sk-parallel-item:first-child::after {align-self: flex-end;width: 50%;}#sk-container-id-9 div.sk-parallel-item:last-child::after {align-self: flex-start;width: 50%;}#sk-container-id-9 div.sk-parallel-item:only-child::after {width: 0;}#sk-container-id-9 div.sk-dashed-wrapped {border: 1px dashed gray;margin: 0 0.4em 0.5em 0.4em;box-sizing: border-box;padding-bottom: 0.4em;background-color: white;}#sk-container-id-9 div.sk-label label {font-family: monospace;font-weight: bold;display: inline-block;line-height: 1.2em;}#sk-container-id-9 div.sk-label-container {text-align: center;}#sk-container-id-9 div.sk-container {/* jupyter's `normalize.less` sets `[hidden] { display: none; }` but bootstrap.min.css set `[hidden] { display: none !important; }` so we also need the `!important` here to be able to override the default hidden behavior on the sphinx rendered scikit-learn.org. See: https://github.com/scikit-learn/scikit-learn/issues/21755 */display: inline-block !important;position: relative;}#sk-container-id-9 div.sk-text-repr-fallback {display: none;}</style><div id=\"sk-container-id-9\" class=\"sk-top-container\"><div class=\"sk-text-repr-fallback\"><pre>XGBRegressor(base_score=None, booster=None, callbacks=None,\n",
       "             colsample_bylevel=None, colsample_bynode=None,\n",
       "             colsample_bytree=None, device=None, early_stopping_rounds=None,\n",
       "             enable_categorical=False, eval_metric=None, feature_types=None,\n",
       "             gamma=None, grow_policy=None, importance_type=None,\n",
       "             interaction_constraints=None, learning_rate=None, max_bin=None,\n",
       "             max_cat_threshold=None, max_cat_to_onehot=None,\n",
       "             max_delta_step=None, max_depth=None, max_leaves=None,\n",
       "             min_child_weight=None, missing=nan, monotone_constraints=None,\n",
       "             multi_strategy=None, n_estimators=None, n_jobs=None,\n",
       "             num_parallel_tree=None, random_state=None, ...)</pre><b>In a Jupyter environment, please rerun this cell to show the HTML representation or trust the notebook. <br />On GitHub, the HTML representation is unable to render, please try loading this page with nbviewer.org.</b></div><div class=\"sk-container\" hidden><div class=\"sk-item\"><div class=\"sk-estimator sk-toggleable\"><input class=\"sk-toggleable__control sk-hidden--visually\" id=\"sk-estimator-id-9\" type=\"checkbox\" checked><label for=\"sk-estimator-id-9\" class=\"sk-toggleable__label sk-toggleable__label-arrow\">XGBRegressor</label><div class=\"sk-toggleable__content\"><pre>XGBRegressor(base_score=None, booster=None, callbacks=None,\n",
       "             colsample_bylevel=None, colsample_bynode=None,\n",
       "             colsample_bytree=None, device=None, early_stopping_rounds=None,\n",
       "             enable_categorical=False, eval_metric=None, feature_types=None,\n",
       "             gamma=None, grow_policy=None, importance_type=None,\n",
       "             interaction_constraints=None, learning_rate=None, max_bin=None,\n",
       "             max_cat_threshold=None, max_cat_to_onehot=None,\n",
       "             max_delta_step=None, max_depth=None, max_leaves=None,\n",
       "             min_child_weight=None, missing=nan, monotone_constraints=None,\n",
       "             multi_strategy=None, n_estimators=None, n_jobs=None,\n",
       "             num_parallel_tree=None, random_state=None, ...)</pre></div></div></div></div></div>"
      ],
      "text/plain": [
       "XGBRegressor(base_score=None, booster=None, callbacks=None,\n",
       "             colsample_bylevel=None, colsample_bynode=None,\n",
       "             colsample_bytree=None, device=None, early_stopping_rounds=None,\n",
       "             enable_categorical=False, eval_metric=None, feature_types=None,\n",
       "             gamma=None, grow_policy=None, importance_type=None,\n",
       "             interaction_constraints=None, learning_rate=None, max_bin=None,\n",
       "             max_cat_threshold=None, max_cat_to_onehot=None,\n",
       "             max_delta_step=None, max_depth=None, max_leaves=None,\n",
       "             min_child_weight=None, missing=nan, monotone_constraints=None,\n",
       "             multi_strategy=None, n_estimators=None, n_jobs=None,\n",
       "             num_parallel_tree=None, random_state=None, ...)"
      ]
     },
     "execution_count": 363,
     "metadata": {},
     "output_type": "execute_result"
    }
   ],
   "source": [
    "lr = LinearRegression()\n",
    "lr.fit(Xtrain,ytrain)\n",
    "\n",
    "rf = RandomForestRegressor(random_state=10)\n",
    "rf.fit(Xtrain,ytrain)\n",
    "\n",
    "xgb = GradientBoostingRegressor(random_state=10)\n",
    "xgb.fit(Xtrain,ytrain)\n",
    "\n",
    "xg = XGBRegressor()\n",
    "xg.fit(Xtrain,ytrain)"
   ]
  },
  {
   "cell_type": "code",
   "execution_count": 364,
   "metadata": {},
   "outputs": [],
   "source": [
    "y_pred1 = lr.predict(Xtest)\n",
    "y_pred2 = rf.predict(Xtest)\n",
    "y_pred3 = xgb.predict(Xtest)\n",
    "y_pred4 = xg.predict(Xtest)"
   ]
  },
  {
   "cell_type": "code",
   "execution_count": 365,
   "metadata": {},
   "outputs": [],
   "source": [
    "from sklearn import metrics\n",
    "score1 = metrics.r2_score(ytest,y_pred1)\n",
    "score2 = metrics.r2_score(ytest,y_pred2)\n",
    "score3 = metrics.r2_score(ytest,y_pred3)\n",
    "score4 = metrics.r2_score(ytest,y_pred4)"
   ]
  },
  {
   "cell_type": "code",
   "execution_count": 366,
   "metadata": {},
   "outputs": [
    {
     "name": "stdout",
     "output_type": "stream",
     "text": [
      "0.7698655791465716 0.9643964968247878 0.9590359736364823 0.9676851308086073\n"
     ]
    }
   ],
   "source": [
    "print(score1,score2,score3,score4)"
   ]
  },
  {
   "cell_type": "code",
   "execution_count": 367,
   "metadata": {},
   "outputs": [],
   "source": [
    "final_data = pd.DataFrame({'Models':['LR','RF','GBR','XG'],\n",
    "             \"R2_SCORE\":[score1,score2,score3,score4]})"
   ]
  },
  {
   "cell_type": "code",
   "execution_count": 368,
   "metadata": {},
   "outputs": [
    {
     "data": {
      "text/html": [
       "<div>\n",
       "<style scoped>\n",
       "    .dataframe tbody tr th:only-of-type {\n",
       "        vertical-align: middle;\n",
       "    }\n",
       "\n",
       "    .dataframe tbody tr th {\n",
       "        vertical-align: top;\n",
       "    }\n",
       "\n",
       "    .dataframe thead th {\n",
       "        text-align: right;\n",
       "    }\n",
       "</style>\n",
       "<table border=\"1\" class=\"dataframe\">\n",
       "  <thead>\n",
       "    <tr style=\"text-align: right;\">\n",
       "      <th></th>\n",
       "      <th>Models</th>\n",
       "      <th>R2_SCORE</th>\n",
       "    </tr>\n",
       "  </thead>\n",
       "  <tbody>\n",
       "    <tr>\n",
       "      <th>0</th>\n",
       "      <td>LR</td>\n",
       "      <td>0.769866</td>\n",
       "    </tr>\n",
       "    <tr>\n",
       "      <th>1</th>\n",
       "      <td>RF</td>\n",
       "      <td>0.964396</td>\n",
       "    </tr>\n",
       "    <tr>\n",
       "      <th>2</th>\n",
       "      <td>GBR</td>\n",
       "      <td>0.959036</td>\n",
       "    </tr>\n",
       "    <tr>\n",
       "      <th>3</th>\n",
       "      <td>XG</td>\n",
       "      <td>0.967685</td>\n",
       "    </tr>\n",
       "  </tbody>\n",
       "</table>\n",
       "</div>"
      ],
      "text/plain": [
       "  Models  R2_SCORE\n",
       "0     LR  0.769866\n",
       "1     RF  0.964396\n",
       "2    GBR  0.959036\n",
       "3     XG  0.967685"
      ]
     },
     "execution_count": 368,
     "metadata": {},
     "output_type": "execute_result"
    }
   ],
   "source": [
    "final_data"
   ]
  },
  {
   "cell_type": "code",
   "execution_count": 369,
   "metadata": {},
   "outputs": [
    {
     "data": {
      "text/plain": [
       "<BarContainer object of 4 artists>"
      ]
     },
     "execution_count": 369,
     "metadata": {},
     "output_type": "execute_result"
    },
    {
     "data": {
      "image/png": "[encoded data removed]",
      "text/plain": [
       "<Figure size 640x480 with 1 Axes>"
      ]
     },
     "metadata": {},
     "output_type": "display_data"
    }
   ],
   "source": [
    "import matplotlib.pyplot as plt\n",
    "plt.bar(final_data['Models'],final_data['R2_SCORE'])"
   ]
  },
  {
   "cell_type": "code",
   "execution_count": 370,
   "metadata": {},
   "outputs": [],
   "source": [
    "xg = XGBRegressor()\n",
    "xg_final = xg.fit(Xtrain,ytrain)\n",
    "\n",
    "# #using random forest\n",
    "# from sklearn.ensemble import RandomForestRegressor\n",
    "# # Create the RandomForestRegressor object with default parameters or customize as needed\n",
    "# rf = RandomForestRegressor()\n",
    "\n",
    "# # Fit the model to the training data\n",
    "# rf_final = rf.fit(Xtrain, ytrain)\n"
   ]
  },
  {
   "cell_type": "code",
   "execution_count": 371,
   "metadata": {},
   "outputs": [
    {
     "data": {
      "text/plain": [
       "['bike_price_predictor']"
      ]
     },
     "execution_count": 371,
     "metadata": {},
     "output_type": "execute_result"
    }
   ],
   "source": [
    "import joblib\n",
    "joblib.dump(xg_final,'bike_price_predictor')"
   ]
  },
  {
   "cell_type": "code",
   "execution_count": 372,
   "metadata": {},
   "outputs": [],
   "source": [
    "model = joblib.load('bike_price_predictor')"
   ]
  },
  {
   "cell_type": "code",
   "execution_count": 373,
   "metadata": {},
   "outputs": [],
   "source": [
    "from xgboost import XGBRegressor\n",
    "\n",
    "# Train the XGBoost model\n",
    "xgb_model = XGBRegressor()\n",
    "xgb_model.fit(Xtrain, ytrain)\n",
    "\n",
    "# Save the model using XGBoost's own method\n",
    "xgb_model.save_model('xgb_model_bike.json')  # JSON format, could also be a binary format with .bin\n",
    "\n",
    "# To load the model later for prediction\n",
    "loaded_xgb_model = XGBRegressor()\n",
    "loaded_xgb_model.load_model('xgb_model_bike.json')"
   ]
  },
  {
   "cell_type": "code",
   "execution_count": 374,
   "metadata": {},
   "outputs": [],
   "source": [
    "import pandas as pd\n",
    "\n",
    "\n",
    "# list of brands \n",
    "all_brands = [\n",
    "    'Bajaj', 'Benelli', 'Ducati', 'Harley-Davidson', 'Hero', \n",
    "    'Honda', 'Hyosung', 'Ideal', 'Indian', 'Jawa', 'KTM', \n",
    "    'Kawasaki', 'LML', 'MV', 'Mahindra', 'Rajdoot',\n",
    "    'Royal Enfield', 'Suzuki', 'TVS', 'Triumph', 'Yamaha', 'Yezdi'  \n",
    "]\n",
    "\n",
    "# Creating the DataFrame with an example entry\n",
    "data_new = pd.DataFrame({\n",
    "    'brand': ['Hero'],\n",
    "    'kms_driven': [2700000],\n",
    "    'power': [120],\n",
    "    'stroke': [5.2],\n",
    "    'milage': [20.0],\n",
    "    'age': [3],\n",
    "}, index=[0])\n",
    "\n",
    "# Perform one-hot encoding for the 'brand' column\n",
    "data_new = pd.get_dummies(data_new, columns=['brand'])\n",
    "\n",
    "# Ensure all expected brand columns are present, adding missing ones with zeros\n",
    "for brand in all_brands:\n",
    "    column_name = f'brand_{brand}'\n",
    "    if column_name not in data_new.columns:\n",
    "        data_new[column_name] = 0\n",
    "\n",
    "# Ensure the column order matches the model's training data\n",
    "expected_columns = ['kms_driven', 'power', 'stroke', 'milage', 'age'] + [f'brand_{brand}' for brand in all_brands]\n",
    "data_new = data_new.reindex(columns=expected_columns)\n",
    "\n",
    "\n",
    "# Now, data_new should be correctly structured for prediction with your model\n",
    "prediction = model.predict(data_new)\n"
   ]
  },
  {
   "cell_type": "code",
   "execution_count": 375,
   "metadata": {},
   "outputs": [
    {
     "data": {
      "text/plain": [
       "array([46536.547], dtype=float32)"
      ]
     },
     "execution_count": 375,
     "metadata": {},
     "output_type": "execute_result"
    }
   ],
   "source": [
    "prediction"
   ]
  },
  {
   "cell_type": "code",
   "execution_count": 376,
   "metadata": {},
   "outputs": [],
   "source": [
    "# from xgboost import XGBRegressor\n",
    "\n",
    "# # Train the XGBoost model\n",
    "# xgb_model = XGBRegressor()\n",
    "# xgb_model.fit(Xtrain, ytrain)\n",
    "\n",
    "# # Save the model using XGBoost's own method\n",
    "# xgb_model.save_model('xgb_model_bike.json')  # JSON format, could also be a binary format with .bin\n",
    "\n",
    "# # To load the model later for prediction\n",
    "# loaded_xgb_model = XGBRegressor()\n",
    "# loaded_xgb_model.load_model('xgb_model_bike.json')\n",
    "\n"
   ]
  },
  {
   "cell_type": "code",
   "execution_count": null,
   "metadata": {},
   "outputs": [],
   "source": [
    "\n"
   ]
  }
 ],
 "metadata": {
  "kernelspec": {
   "display_name": "Python 3",
   "language": "python",
   "name": "python3"
  },
  "language_info": {
   "codemirror_mode": {
    "name": "ipython",
    "version": 3
   },
   "file_extension": ".py",
   "mimetype": "text/x-python",
   "name": "python",
   "nbconvert_exporter": "python",
   "pygments_lexer": "ipython3",
   "version": "3.11.4"
  }
 },
 "nbformat": 4,
 "nbformat_minor": 2
}
